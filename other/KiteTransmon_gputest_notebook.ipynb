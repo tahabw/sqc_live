{
 "cells": [
  {
   "cell_type": "code",
   "execution_count": 1,
   "metadata": {},
   "outputs": [],
   "source": [
    " #!pip install matplotlib scipy numpy qutip cupy-cuda11x"
   ]
  },
  {
   "cell_type": "code",
   "execution_count": 2,
   "metadata": {},
   "outputs": [],
   "source": [
    "# import os\n",
    "# os.add_dll_directory(r\"C:\\Users\\tahab\\anaconda3\\DLLs\")\n",
    "\n",
    "import numpy as np\n",
    "from matplotlib import pyplot as plt\n",
    "import cupy as cp\n",
    "\n",
    "from Kite_class import (Kite_Transmon_Erwan, Kite_Transmon_Taha , Kite_transmon_CoupledToResonator)\n",
    " "
   ]
  },
  {
   "cell_type": "code",
   "execution_count": 3,
   "metadata": {},
   "outputs": [],
   "source": [
    "# Initial guess for the qubit parameters.\n",
    "params = {'E_C': 1.64/50, # The charging energy of the shunting cap\n",
    "        'E_L': 2.14, # The inductive energy of the branch inductance\n",
    "        'E_J': 21.43, # The Josephson energy of a JJ\n",
    "        'E_CJ': 7.14, # The charging energy of a JJ\n",
    "        'eps_l' : 0., # Asymmetry in inductive energy between L of each branch\n",
    "        'eps_j' : 0., # Asymmetry in Josephson energy between JJ of each branch\n",
    "        'eps_c' : 0., # Asymmetry in charging energy between JJ of each branch\n",
    "        'phi_ext': 0.5, # External flux threading the loop\n",
    "        'n_g' : 0., # Offset charge in the island\n",
    "        'num_qbt_0': 30,\n",
    "        'num_qbt_1': 30,\n",
    "        'num_qbt_2': 20,\n",
    "        'num_osc': 40, # number of modes of the Kite in the eigenbasis\n",
    "        'f_r': 4.7, # resonator frequency\n",
    "        'g_r_J': .200, # Coupling to resonator\n",
    "        'num_res': 20,\n",
    "        'num_tot': 20, # number of modes of the coupled system\n",
    "        'error_type': 'relative_error',\n",
    "        'data_set': 'data3'\n",
    "        }"
   ]
  },
  {
   "cell_type": "code",
   "execution_count": 5,
   "metadata": {},
   "outputs": [
    {
     "name": "stdout",
     "output_type": "stream",
     "text": [
      "0 0.4\n",
      "elapsed time H: 0.17 s\n",
      "elapsed time diag: 1.85 s\n",
      "1 0.45\n",
      "elapsed time H: 0.14 s\n",
      "elapsed time diag: 1.87 s\n",
      "2 0.5\n",
      "elapsed time H: 0.14 s\n",
      "elapsed time diag: 1.96 s\n"
     ]
    }
   ],
   "source": [
    "phi_ext = np.linspace(-0.1,.6,36)\n",
    "n_g = np.array([0.])\n",
    "\n",
    "levels = np.zeros((phi_ext.size, n_g.size, params['num_tot']))\n",
    "levels_qubit = np.zeros((phi_ext.size, n_g.size, params['num_osc']))\n",
    "\n",
    "# weights = np.zeros((phi_ext.size, n_g.size, params['num_tot'], params['num_osc']))\n",
    "\n",
    "for idx_phi_ext, value_phi in enumerate(phi_ext):\n",
    "    for idx_n_g, value_ng in enumerate(n_g):\n",
    "        print(idx_phi_ext, value_phi)\n",
    "        params['phi_ext'] = value_phi\n",
    "        params['n_g']  = value_ng\n",
    "        qubit = Kite_Transmon_Taha(params)\n",
    "        levels_qubit[idx_phi_ext,idx_n_g,:] = qubit.levels().get()\n",
    "#        cp.get_default_memory_pool().free_all_blocks()\n",
    "        # system = Kite_transmon_CoupledToResonator(qubit, params)\n",
    "        # levels[idx_phi_ext,idx_n_g,:] = system.levels().get()\n",
    "\n",
    "# params['levels'] = levels\n",
    "params['levels_qubit'] = levels_qubit"
   ]
  },
  {
   "cell_type": "code",
   "execution_count": null,
   "metadata": {},
   "outputs": [],
   "source": [
    "plt.figure()\n",
    "\n",
    "ng_idx = 0\n",
    "#E0 = params['levels'][:,ng_idx,0]\n",
    "#n_lvl_max=14\n",
    "#for i in range(n_lvl_max):\n",
    "#    plt.plot(phi_ext, (params['levels'][:,ng_idx,i] - E0))\n",
    "\n",
    "E0_qbt = params['levels_qubit'][:,ng_idx,0]\n",
    "n_lvl_max=18\n",
    "for i in range(n_lvl_max):\n",
    "    plt.plot(phi_ext, (params['levels_qubit'][:,ng_idx,i] - E0_qbt), linestyle='--')\n",
    "\n",
    "plt.xlabel('$\\phi_{ext}$')\n",
    "plt.ylabel('Energy $ [GHz]')\n",
    "plt.grid()\n",
    "plt.legend()\n",
    "plt.show()"
   ]
  },
  {
   "cell_type": "code",
   "execution_count": null,
   "metadata": {},
   "outputs": [],
   "source": [
    "plt.figure()\n",
    "\n",
    "ng_idx = 0\n",
    "\n",
    "E0_qbt = params['levels_qubit'][:,ng_idx,0]\n",
    "n_lvl_max=14\n",
    "for i in range(n_lvl_max):\n",
    "    plt.plot(phi_ext, (params['levels_qubit'][:,ng_idx,i] - E0_qbt), linestyle='--')\n",
    "\n",
    "plt.xlabel('$\\phi_{ext}$')\n",
    "plt.ylabel('Energy $ [GHz]')\n",
    "plt.grid()\n",
    "plt.legend()\n",
    "plt.show()"
   ]
  },
  {
   "cell_type": "code",
   "execution_count": null,
   "metadata": {},
   "outputs": [],
   "source": []
  }
 ],
 "metadata": {
  "kernelspec": {
   "display_name": "Conda",
   "language": "python",
   "name": "python3"
  },
  "language_info": {
   "codemirror_mode": {
    "name": "ipython",
    "version": 3
   },
   "file_extension": ".py",
   "mimetype": "text/x-python",
   "name": "python",
   "nbconvert_exporter": "python",
   "pygments_lexer": "ipython3",
   "version": "3.10.8"
  }
 },
 "nbformat": 4,
 "nbformat_minor": 4
}
