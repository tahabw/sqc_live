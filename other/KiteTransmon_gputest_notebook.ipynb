{
 "cells": [
  {
   "cell_type": "code",
   "execution_count": 2,
   "metadata": {},
   "outputs": [],
   "source": [
    "# !pip install pandas matplotlib scipy numpy qutip"
   ]
  },
  {
   "cell_type": "code",
   "execution_count": 2,
   "metadata": {},
   "outputs": [
    {
     "ename": "ImportError",
     "evalue": "CuPy is not correctly installed.\n\nIf you are using wheel distribution (cupy-cudaXX), make sure that the version of CuPy you installed matches with the version of CUDA on your host.\nAlso, confirm that only one CuPy package is installed:\n  $ pip freeze\n\nIf you are building CuPy from source, please check your environment, uninstall CuPy and reinstall it with:\n  $ pip install cupy --no-cache-dir -vvvv\n\nCheck the Installation Guide for details:\n  https://docs.cupy.dev/en/latest/install.html\n\noriginal error: DLL load failed while importing driver: Le module spécifié est introuvable.",
     "output_type": "error",
     "traceback": [
      "\u001b[1;31m---------------------------------------------------------------------------\u001b[0m",
      "\u001b[1;31mImportError\u001b[0m                               Traceback (most recent call last)",
      "File \u001b[1;32mc:\\Users\\tahab\\anaconda3\\envs\\q_cupy\\lib\\site-packages\\cupy\\__init__.py:20\u001b[0m\n\u001b[0;32m     17\u001b[0m         _warnings\u001b[38;5;241m.\u001b[39mfilterwarnings(\n\u001b[0;32m     18\u001b[0m             \u001b[38;5;124m'\u001b[39m\u001b[38;5;124mignore\u001b[39m\u001b[38;5;124m'\u001b[39m, category\u001b[38;5;241m=\u001b[39m\u001b[38;5;167;01mImportWarning\u001b[39;00m,\n\u001b[0;32m     19\u001b[0m             message\u001b[38;5;241m=\u001b[39m\u001b[38;5;124m'\u001b[39m\u001b[38;5;124mcan\u001b[39m\u001b[38;5;130;01m\\'\u001b[39;00m\u001b[38;5;124mt resolve package from __spec__\u001b[39m\u001b[38;5;124m'\u001b[39m)\n\u001b[1;32m---> 20\u001b[0m         \u001b[38;5;28;01mfrom\u001b[39;00m \u001b[38;5;21;01mcupy\u001b[39;00m \u001b[38;5;28;01mimport\u001b[39;00m core  \u001b[38;5;66;03m# NOQA\u001b[39;00m\n\u001b[0;32m     21\u001b[0m \u001b[38;5;28;01mexcept\u001b[39;00m \u001b[38;5;167;01mImportError\u001b[39;00m \u001b[38;5;28;01mas\u001b[39;00m e:\n\u001b[0;32m     22\u001b[0m     \u001b[38;5;66;03m# core is a c-extension module.\u001b[39;00m\n\u001b[0;32m     23\u001b[0m     \u001b[38;5;66;03m# When a user cannot import core, it represents that CuPy is not correctly\u001b[39;00m\n\u001b[0;32m     24\u001b[0m     \u001b[38;5;66;03m# built.\u001b[39;00m\n",
      "File \u001b[1;32mc:\\Users\\tahab\\anaconda3\\envs\\q_cupy\\lib\\site-packages\\cupy\\core\\__init__.py:1\u001b[0m\n\u001b[1;32m----> 1\u001b[0m \u001b[38;5;28;01mfrom\u001b[39;00m \u001b[38;5;21;01mcupy\u001b[39;00m\u001b[38;5;21;01m.\u001b[39;00m\u001b[38;5;21;01mcore\u001b[39;00m \u001b[38;5;28;01mimport\u001b[39;00m core  \u001b[38;5;66;03m# NOQA\u001b[39;00m\n\u001b[0;32m      2\u001b[0m \u001b[38;5;28;01mfrom\u001b[39;00m \u001b[38;5;21;01mcupy\u001b[39;00m\u001b[38;5;21;01m.\u001b[39;00m\u001b[38;5;21;01mcore\u001b[39;00m \u001b[38;5;28;01mimport\u001b[39;00m internal  \u001b[38;5;66;03m# NOQA\u001b[39;00m\n",
      "File \u001b[1;32mcupy/core/core.pyx:1\u001b[0m, in \u001b[0;36minit cupy.core.core\u001b[1;34m()\u001b[0m\n",
      "File \u001b[1;32mc:\\Users\\tahab\\anaconda3\\envs\\q_cupy\\lib\\site-packages\\cupy\\cuda\\__init__.py:5\u001b[0m\n\u001b[0;32m      4\u001b[0m \u001b[38;5;28;01mfrom\u001b[39;00m \u001b[38;5;21;01mcupy\u001b[39;00m\u001b[38;5;21;01m.\u001b[39;00m\u001b[38;5;21;01m_environment\u001b[39;00m \u001b[38;5;28;01mimport\u001b[39;00m get_cuda_path, get_nvcc_path  \u001b[38;5;66;03m# NOQA\u001b[39;00m\n\u001b[1;32m----> 5\u001b[0m \u001b[38;5;28;01mfrom\u001b[39;00m \u001b[38;5;21;01mcupy\u001b[39;00m\u001b[38;5;21;01m.\u001b[39;00m\u001b[38;5;21;01mcuda\u001b[39;00m \u001b[38;5;28;01mimport\u001b[39;00m compiler  \u001b[38;5;66;03m# NOQA\u001b[39;00m\n\u001b[0;32m      6\u001b[0m \u001b[38;5;28;01mfrom\u001b[39;00m \u001b[38;5;21;01mcupy\u001b[39;00m\u001b[38;5;21;01m.\u001b[39;00m\u001b[38;5;21;01mcuda\u001b[39;00m \u001b[38;5;28;01mimport\u001b[39;00m device  \u001b[38;5;66;03m# NOQA\u001b[39;00m\n",
      "File \u001b[1;32mc:\\Users\\tahab\\anaconda3\\envs\\q_cupy\\lib\\site-packages\\cupy\\cuda\\compiler.py:12\u001b[0m\n\u001b[0;32m     11\u001b[0m \u001b[38;5;28;01mfrom\u001b[39;00m \u001b[38;5;21;01mcupy\u001b[39;00m\u001b[38;5;21;01m.\u001b[39;00m\u001b[38;5;21;01mcuda\u001b[39;00m \u001b[38;5;28;01mimport\u001b[39;00m device\n\u001b[1;32m---> 12\u001b[0m \u001b[38;5;28;01mfrom\u001b[39;00m \u001b[38;5;21;01mcupy\u001b[39;00m\u001b[38;5;21;01m.\u001b[39;00m\u001b[38;5;21;01mcuda\u001b[39;00m \u001b[38;5;28;01mimport\u001b[39;00m function\n\u001b[0;32m     13\u001b[0m \u001b[38;5;28;01mfrom\u001b[39;00m \u001b[38;5;21;01mcupy_backends\u001b[39;00m\u001b[38;5;21;01m.\u001b[39;00m\u001b[38;5;21;01mcuda\u001b[39;00m\u001b[38;5;21;01m.\u001b[39;00m\u001b[38;5;21;01mapi\u001b[39;00m \u001b[38;5;28;01mimport\u001b[39;00m runtime\n",
      "File \u001b[1;32mcupy/cuda/function.pyx:1\u001b[0m, in \u001b[0;36minit cupy.cuda.function\u001b[1;34m()\u001b[0m\n",
      "File \u001b[1;32mcupy/cuda/texture.pyx:1\u001b[0m, in \u001b[0;36minit cupy.cuda.texture\u001b[1;34m()\u001b[0m\n",
      "\u001b[1;31mImportError\u001b[0m: DLL load failed while importing driver: Le module spécifié est introuvable.",
      "\nThe above exception was the direct cause of the following exception:\n",
      "\u001b[1;31mImportError\u001b[0m                               Traceback (most recent call last)",
      "Cell \u001b[1;32mIn[2], line 7\u001b[0m\n\u001b[0;32m      4\u001b[0m \u001b[38;5;28;01mimport\u001b[39;00m \u001b[38;5;21;01mnumpy\u001b[39;00m \u001b[38;5;28;01mas\u001b[39;00m \u001b[38;5;21;01mnp\u001b[39;00m\n\u001b[0;32m      5\u001b[0m \u001b[38;5;28;01mfrom\u001b[39;00m \u001b[38;5;21;01mmatplotlib\u001b[39;00m \u001b[38;5;28;01mimport\u001b[39;00m pyplot \u001b[38;5;28;01mas\u001b[39;00m plt\n\u001b[1;32m----> 7\u001b[0m \u001b[38;5;28;01mfrom\u001b[39;00m \u001b[38;5;21;01mKite_class\u001b[39;00m \u001b[38;5;28;01mimport\u001b[39;00m (Kite_Transmon_Erwan, Kite_Transmon_Taha , Kite_transmon_CoupledToResonator)\n",
      "File \u001b[1;32mc:\\Users\\tahab\\Desktop\\starter-pack\\Cupy Version\\Kite_class.py:4\u001b[0m\n\u001b[0;32m      2\u001b[0m \u001b[38;5;28;01mfrom\u001b[39;00m \u001b[38;5;21;01mscipy\u001b[39;00m\u001b[38;5;21;01m.\u001b[39;00m\u001b[38;5;21;01mspecial\u001b[39;00m \u001b[38;5;28;01mimport\u001b[39;00m eval_hermite \u001b[38;5;28;01mas\u001b[39;00m hpoly\n\u001b[0;32m      3\u001b[0m \u001b[38;5;28;01mimport\u001b[39;00m \u001b[38;5;21;01mscipy\u001b[39;00m\u001b[38;5;21;01m.\u001b[39;00m\u001b[38;5;21;01msparse\u001b[39;00m \u001b[38;5;28;01mas\u001b[39;00m \u001b[38;5;21;01msps\u001b[39;00m\n\u001b[1;32m----> 4\u001b[0m \u001b[38;5;28;01mimport\u001b[39;00m \u001b[38;5;21;01mHelpers_Erwan\u001b[39;00m \u001b[38;5;28;01mas\u001b[39;00m \u001b[38;5;21;01mhe\u001b[39;00m\n\u001b[0;32m      6\u001b[0m \u001b[38;5;28;01mimport\u001b[39;00m \u001b[38;5;21;01mcupy\u001b[39;00m \u001b[38;5;28;01mas\u001b[39;00m \u001b[38;5;21;01mcp\u001b[39;00m\n\u001b[0;32m      7\u001b[0m \u001b[38;5;66;03m# import matplotlib.pyplot as plt\u001b[39;00m\n",
      "File \u001b[1;32mc:\\Users\\tahab\\Desktop\\starter-pack\\Cupy Version\\Helpers_Erwan.py:2\u001b[0m\n\u001b[0;32m      1\u001b[0m \u001b[38;5;28;01mimport\u001b[39;00m \u001b[38;5;21;01mnumpy\u001b[39;00m \u001b[38;5;28;01mas\u001b[39;00m \u001b[38;5;21;01mnp\u001b[39;00m\n\u001b[1;32m----> 2\u001b[0m \u001b[38;5;28;01mimport\u001b[39;00m \u001b[38;5;21;01mcupy\u001b[39;00m \u001b[38;5;28;01mas\u001b[39;00m \u001b[38;5;21;01mcp\u001b[39;00m\n\u001b[0;32m      3\u001b[0m \u001b[38;5;28;01mimport\u001b[39;00m \u001b[38;5;21;01mscipy\u001b[39;00m \u001b[38;5;28;01mas\u001b[39;00m \u001b[38;5;21;01msc\u001b[39;00m\n\u001b[0;32m      4\u001b[0m \u001b[38;5;28;01mimport\u001b[39;00m \u001b[38;5;21;01mcupyx\u001b[39;00m\u001b[38;5;21;01m.\u001b[39;00m\u001b[38;5;21;01mscipy\u001b[39;00m\u001b[38;5;21;01m.\u001b[39;00m\u001b[38;5;21;01mlinalg\u001b[39;00m \u001b[38;5;28;01mas\u001b[39;00m \u001b[38;5;21;01mns_linalg\u001b[39;00m\n",
      "File \u001b[1;32mc:\\Users\\tahab\\anaconda3\\envs\\q_cupy\\lib\\site-packages\\cupy\\__init__.py:41\u001b[0m\n\u001b[0;32m     25\u001b[0m     _exc_info \u001b[38;5;241m=\u001b[39m _sys\u001b[38;5;241m.\u001b[39mexc_info()\n\u001b[0;32m     26\u001b[0m     _msg \u001b[38;5;241m=\u001b[39m (\u001b[38;5;124m'''\u001b[39m\u001b[38;5;130;01m\\\u001b[39;00m\n\u001b[0;32m     27\u001b[0m \u001b[38;5;124mCuPy is not correctly installed.\u001b[39m\n\u001b[0;32m     28\u001b[0m \n\u001b[1;32m   (...)\u001b[0m\n\u001b[0;32m     38\u001b[0m \n\u001b[0;32m     39\u001b[0m \u001b[38;5;124moriginal error: \u001b[39m\u001b[38;5;132;01m{}\u001b[39;00m\u001b[38;5;124m'''\u001b[39m\u001b[38;5;241m.\u001b[39mformat(_exc_info[\u001b[38;5;241m1\u001b[39m]))  \u001b[38;5;66;03m# NOQA\u001b[39;00m\n\u001b[1;32m---> 41\u001b[0m     \u001b[38;5;28;01mraise\u001b[39;00m \u001b[38;5;167;01mImportError\u001b[39;00m(_msg) \u001b[38;5;28;01mfrom\u001b[39;00m \u001b[38;5;21;01me\u001b[39;00m\n\u001b[0;32m     44\u001b[0m \u001b[38;5;28;01mfrom\u001b[39;00m \u001b[38;5;21;01mcupy\u001b[39;00m \u001b[38;5;28;01mimport\u001b[39;00m cuda\n\u001b[0;32m     45\u001b[0m \u001b[38;5;66;03m# Do not make `cupy.cupyx` available because it is confusing.\u001b[39;00m\n",
      "\u001b[1;31mImportError\u001b[0m: CuPy is not correctly installed.\n\nIf you are using wheel distribution (cupy-cudaXX), make sure that the version of CuPy you installed matches with the version of CUDA on your host.\nAlso, confirm that only one CuPy package is installed:\n  $ pip freeze\n\nIf you are building CuPy from source, please check your environment, uninstall CuPy and reinstall it with:\n  $ pip install cupy --no-cache-dir -vvvv\n\nCheck the Installation Guide for details:\n  https://docs.cupy.dev/en/latest/install.html\n\noriginal error: DLL load failed while importing driver: Le module spécifié est introuvable."
     ]
    }
   ],
   "source": [
    "import os\n",
    "# os.add_dll_directory(r\"C:\\Users\\tahab\\anaconda3\\DLLs\")\n",
    "\n",
    "import numpy as np\n",
    "from matplotlib import pyplot as plt\n",
    "\n",
    "from Kite_class import (Kite_Transmon_Erwan, Kite_Transmon_Taha , Kite_transmon_CoupledToResonator)\n",
    " "
   ]
  },
  {
   "cell_type": "code",
   "execution_count": null,
   "metadata": {},
   "outputs": [],
   "source": [
    "# Initial guess for the qubit parameters.\n",
    "params = {'E_C': 1.64/50, # The charging energy of the shunting cap\n",
    "        'E_L': 2.14, # The inductive energy of the branch inductance\n",
    "        'E_J': 21.43, # The Josephson energy of a JJ\n",
    "        'E_CJ': 7.14, # The charging energy of a JJ\n",
    "        'eps_l' : 0., # Asymmetry in inductive energy between L of each branch\n",
    "        'eps_j' : 0., # Asymmetry in Josephson energy between JJ of each branch\n",
    "        'eps_c' : 0., # Asymmetry in charging energy between JJ of each branch\n",
    "        'phi_ext': 0.5, # External flux threading the loop\n",
    "        'n_g' : 0., # Offset charge in the island\n",
    "        'num_qbt_0': 30,\n",
    "        'num_qbt_1': 30,\n",
    "        'num_qbt_2': 15,\n",
    "        'num_osc': 40, # number of modes of the Kite in the eigenbasis\n",
    "        'f_r': 4.7, # resonator frequency\n",
    "        'g_r_J': .200, # Coupling to resonator\n",
    "        'num_res': 20,\n",
    "        'num_tot': 20, # number of modes of the coupled system\n",
    "        'error_type': 'relative_error',\n",
    "        'data_set': 'data3'\n",
    "        }"
   ]
  },
  {
   "cell_type": "code",
   "execution_count": null,
   "metadata": {},
   "outputs": [],
   "source": [
    "phi_ext = np.linspace(-.1,.6,36)\n",
    "n_g = np.array([0.])\n",
    "\n",
    "levels = np.zeros((phi_ext.size, n_g.size, params['num_tot']))\n",
    "levels_qubit = np.zeros((phi_ext.size, n_g.size, params['num_osc']))\n",
    "\n",
    "# weights = np.zeros((phi_ext.size, n_g.size, params['num_tot'], params['num_osc']))\n",
    "\n",
    "for idx_phi_ext, value_phi in enumerate(phi_ext):\n",
    "    for idx_n_g, value_ng in enumerate(n_g):\n",
    "        params['phi_ext'] = value_phi\n",
    "        params['n_g']  = value_ng\n",
    "        qubit = Kite_Transmon_Taha(params)\n",
    "        levels_qubit[idx_phi_ext,idx_n_g,:] = qubit.levels()\n",
    "        system = Kite_transmon_CoupledToResonator(qubit, params)\n",
    "        levels[idx_phi_ext,idx_n_g,:] = system.levels()\n",
    "\n",
    "params['levels'] = levels\n",
    "params['levels_qubit'] = levels_qubit"
   ]
  },
  {
   "cell_type": "code",
   "execution_count": null,
   "metadata": {},
   "outputs": [],
   "source": [
    "plt.figure()\n",
    "\n",
    "ng_idx = 0\n",
    "E0 = params['levels'][:,ng_idx,0]\n",
    "n_lvl_max=14\n",
    "for i in range(n_lvl_max):\n",
    "    plt.plot(phi_ext, (params['levels'][:,ng_idx,i] - E0))\n",
    "\n",
    "E0_qbt = params['levels_qubit'][:,ng_idx,0]\n",
    "n_lvl_max=14\n",
    "for i in range(n_lvl_max):\n",
    "    plt.plot(phi_ext, (params['levels_qubit'][:,ng_idx,i] - E0_qbt), linestyle='--')\n",
    "\n",
    "plt.xlabel('$\\phi_{ext}$')\n",
    "plt.ylabel('Energy $ [GHz]')\n",
    "plt.grid()\n",
    "plt.legend()\n",
    "plt.show()"
   ]
  },
  {
   "cell_type": "code",
   "execution_count": null,
   "metadata": {},
   "outputs": [],
   "source": [
    "plt.figure()\n",
    "\n",
    "ng_idx = 0\n",
    "\n",
    "E0_qbt = params['levels_qubit'][:,ng_idx,0]\n",
    "n_lvl_max=14\n",
    "for i in range(n_lvl_max):\n",
    "    plt.plot(phi_ext, (params['levels_qubit'][:,ng_idx,i] - E0_qbt), linestyle='--')\n",
    "\n",
    "plt.xlabel('$\\phi_{ext}$')\n",
    "plt.ylabel('Energy $ [GHz]')\n",
    "plt.grid()\n",
    "plt.legend()\n",
    "plt.show()"
   ]
  }
 ],
 "metadata": {
  "kernelspec": {
   "display_name": "ML_Laboneq",
   "language": "python",
   "name": "python3"
  },
  "language_info": {
   "codemirror_mode": {
    "name": "ipython",
    "version": 3
   },
   "file_extension": ".py",
   "mimetype": "text/x-python",
   "name": "python",
   "nbconvert_exporter": "python",
   "pygments_lexer": "ipython3",
   "version": "3.9.19"
  }
 },
 "nbformat": 4,
 "nbformat_minor": 2
}
