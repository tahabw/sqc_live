{
 "cells": [
  {
   "cell_type": "code",
   "execution_count": 1,
   "metadata": {},
   "outputs": [],
   "source": [
    " #!pip install matplotlib scipy numpy qutip cupy-cuda11x"
   ]
  },
  {
   "cell_type": "code",
   "execution_count": 2,
   "metadata": {},
   "outputs": [],
   "source": [
    "# import os\n",
    "# os.add_dll_directory(r\"C:\\Users\\tahab\\anaconda3\\DLLs\")\n",
    "\n",
    "import numpy as np\n",
    "from matplotlib import pyplot as plt\n",
    "\n",
    "from Kite_class import (Kite_Transmon_Erwan, Kite_Transmon_Taha , Kite_transmon_CoupledToResonator)\n",
    " "
   ]
  },
  {
   "cell_type": "code",
   "execution_count": 3,
   "metadata": {},
   "outputs": [],
   "source": [
    "# Initial guess for the qubit parameters.\n",
    "params = {'E_C': 1.64/50, # The charging energy of the shunting cap\n",
    "        'E_L': 2.14, # The inductive energy of the branch inductance\n",
    "        'E_J': 21.43, # The Josephson energy of a JJ\n",
    "        'E_CJ': 7.14, # The charging energy of a JJ\n",
    "        'eps_l' : 0., # Asymmetry in inductive energy between L of each branch\n",
    "        'eps_j' : 0., # Asymmetry in Josephson energy between JJ of each branch\n",
    "        'eps_c' : 0., # Asymmetry in charging energy between JJ of each branch\n",
    "        'phi_ext': 0.5, # External flux threading the loop\n",
    "        'n_g' : 0., # Offset charge in the island\n",
    "        'num_qbt_0': 30,\n",
    "        'num_qbt_1': 30,\n",
    "        'num_qbt_2': 15,\n",
    "        'num_osc': 40, # number of modes of the Kite in the eigenbasis\n",
    "        'f_r': 4.7, # resonator frequency\n",
    "        'g_r_J': .200, # Coupling to resonator\n",
    "        'num_res': 20,\n",
    "        'num_tot': 20, # number of modes of the coupled system\n",
    "        'error_type': 'relative_error',\n",
    "        'data_set': 'data3'\n",
    "        }"
   ]
  },
  {
   "cell_type": "code",
   "execution_count": 4,
   "metadata": {},
   "outputs": [
    {
     "name": "stderr",
     "output_type": "stream",
     "text": [
      "/tmp/ipykernel_680/353928629.py:14: DeprecationWarning: __array__ implementation doesn't accept a copy keyword, so passing copy=False failed. __array__ must implement 'dtype' and 'copy' keyword arguments.\n",
      "  levels_qubit[idx_phi_ext,idx_n_g,:] = qubit.levels()\n"
     ]
    },
    {
     "ename": "TypeError",
     "evalue": "Implicit conversion to a NumPy array is not allowed. Please use `.get()` to construct a NumPy array explicitly.",
     "output_type": "error",
     "traceback": [
      "\u001b[0;31m---------------------------------------------------------------------------\u001b[0m",
      "\u001b[0;31mTypeError\u001b[0m                                 Traceback (most recent call last)",
      "Cell \u001b[0;32mIn[4], line 14\u001b[0m\n\u001b[1;32m     12\u001b[0m params[\u001b[38;5;124m'\u001b[39m\u001b[38;5;124mn_g\u001b[39m\u001b[38;5;124m'\u001b[39m]  \u001b[38;5;241m=\u001b[39m value_ng\n\u001b[1;32m     13\u001b[0m qubit \u001b[38;5;241m=\u001b[39m Kite_Transmon_Taha(params)\n\u001b[0;32m---> 14\u001b[0m \u001b[43mlevels_qubit\u001b[49m\u001b[43m[\u001b[49m\u001b[43midx_phi_ext\u001b[49m\u001b[43m,\u001b[49m\u001b[43midx_n_g\u001b[49m\u001b[43m,\u001b[49m\u001b[43m:\u001b[49m\u001b[43m]\u001b[49m \u001b[38;5;241m=\u001b[39m qubit\u001b[38;5;241m.\u001b[39mlevels()\n\u001b[1;32m     15\u001b[0m system \u001b[38;5;241m=\u001b[39m Kite_transmon_CoupledToResonator(qubit, params)\n\u001b[1;32m     16\u001b[0m levels[idx_phi_ext,idx_n_g,:] \u001b[38;5;241m=\u001b[39m system\u001b[38;5;241m.\u001b[39mlevels()\n",
      "File \u001b[0;32mcupy/_core/core.pyx:1479\u001b[0m, in \u001b[0;36mcupy._core.core._ndarray_base.__array__\u001b[0;34m()\u001b[0m\n",
      "\u001b[0;31mTypeError\u001b[0m: Implicit conversion to a NumPy array is not allowed. Please use `.get()` to construct a NumPy array explicitly."
     ]
    }
   ],
   "source": [
    "phi_ext = np.linspace(-.1,.6,36)\n",
    "n_g = np.array([0.])\n",
    "\n",
    "levels = np.zeros((phi_ext.size, n_g.size, params['num_tot']))\n",
    "levels_qubit = np.zeros((phi_ext.size, n_g.size, params['num_osc']))\n",
    "\n",
    "# weights = np.zeros((phi_ext.size, n_g.size, params['num_tot'], params['num_osc']))\n",
    "\n",
    "for idx_phi_ext, value_phi in enumerate(phi_ext):\n",
    "    for idx_n_g, value_ng in enumerate(n_g):\n",
    "        params['phi_ext'] = value_phi\n",
    "        params['n_g']  = value_ng\n",
    "        qubit = Kite_Transmon_Taha(params)\n",
    "        levels_qubit[idx_phi_ext,idx_n_g,:] = qubit.levels()\n",
    "        system = Kite_transmon_CoupledToResonator(qubit, params)\n",
    "        levels[idx_phi_ext,idx_n_g,:] = system.levels()\n",
    "\n",
    "params['levels'] = levels\n",
    "params['levels_qubit'] = levels_qubit"
   ]
  },
  {
   "cell_type": "code",
   "execution_count": null,
   "metadata": {},
   "outputs": [],
   "source": [
    "plt.figure()\n",
    "\n",
    "ng_idx = 0\n",
    "E0 = params['levels'][:,ng_idx,0]\n",
    "n_lvl_max=14\n",
    "for i in range(n_lvl_max):\n",
    "    plt.plot(phi_ext, (params['levels'][:,ng_idx,i] - E0))\n",
    "\n",
    "E0_qbt = params['levels_qubit'][:,ng_idx,0]\n",
    "n_lvl_max=14\n",
    "for i in range(n_lvl_max):\n",
    "    plt.plot(phi_ext, (params['levels_qubit'][:,ng_idx,i] - E0_qbt), linestyle='--')\n",
    "\n",
    "plt.xlabel('$\\phi_{ext}$')\n",
    "plt.ylabel('Energy $ [GHz]')\n",
    "plt.grid()\n",
    "plt.legend()\n",
    "plt.show()"
   ]
  },
  {
   "cell_type": "code",
   "execution_count": null,
   "metadata": {},
   "outputs": [],
   "source": [
    "plt.figure()\n",
    "\n",
    "ng_idx = 0\n",
    "\n",
    "E0_qbt = params['levels_qubit'][:,ng_idx,0]\n",
    "n_lvl_max=14\n",
    "for i in range(n_lvl_max):\n",
    "    plt.plot(phi_ext, (params['levels_qubit'][:,ng_idx,i] - E0_qbt), linestyle='--')\n",
    "\n",
    "plt.xlabel('$\\phi_{ext}$')\n",
    "plt.ylabel('Energy $ [GHz]')\n",
    "plt.grid()\n",
    "plt.legend()\n",
    "plt.show()"
   ]
  }
 ],
 "metadata": {
  "kernelspec": {
   "display_name": "Conda",
   "language": "python",
   "name": "python3"
  },
  "language_info": {
   "codemirror_mode": {
    "name": "ipython",
    "version": 3
   },
   "file_extension": ".py",
   "mimetype": "text/x-python",
   "name": "python",
   "nbconvert_exporter": "python",
   "pygments_lexer": "ipython3",
   "version": "3.10.8"
  }
 },
 "nbformat": 4,
 "nbformat_minor": 4
}
