{
 "cells": [
  {
   "cell_type": "code",
   "execution_count": 1,
   "metadata": {},
   "outputs": [],
   "source": [
    " #!pip install matplotlib scipy numpy qutip cupy-cuda11x"
   ]
  },
  {
   "cell_type": "code",
   "execution_count": 2,
   "metadata": {},
   "outputs": [],
   "source": [
    "import numpy as np\n",
    "from matplotlib import pyplot as plt\n",
    "import cupy as cp\n",
    "\n",
    "from Kite_class import (Kite_Transmon_Erwan, Kite_Transmon_Taha , Kite_transmon_CoupledToResonator)"
   ]
  },
  {
   "cell_type": "code",
   "execution_count": 3,
   "metadata": {},
   "outputs": [],
   "source": [
    "# Initial guess for the qubit parameters.\n",
    "params = {'E_C': 1.64/50, # The charging energy of the shunting cap\n",
    "        'E_L': 2.14, # The inductive energy of the branch inductance\n",
    "        'E_J': 21.43, # The Josephson energy of a JJ\n",
    "        'E_CJ': 7.14, # The charging energy of a JJ\n",
    "        'eps_l' : 0., # Asymmetry in inductive energy between L of each branch\n",
    "        'eps_j' : 0., # Asymmetry in Josephson energy between JJ of each branch\n",
    "        'eps_c' : 0., # Asymmetry in charging energy between JJ of each branch\n",
    "        'phi_ext': 0.5, # External flux threading the loop\n",
    "        'n_g' : 0., # Offset charge in the island\n",
    "        'num_qbt_0': 45,\n",
    "        'num_qbt_1': 45,\n",
    "        'num_qbt_2': 30,\n",
    "        'num_osc': 40, # number of modes of the Kite in the eigenbasis\n",
    "        'error_type': 'relative_error',\n",
    "        'data_set': 'data3'\n",
    "        }"
   ]
  },
  {
   "cell_type": "code",
   "execution_count": 4,
   "metadata": {},
   "outputs": [],
   "source": [
    "import qutip as qt\n",
    "\n",
    "def spec_fluxonium(Nmax, EJ, EC, EL, phiext_vec, ifeigvecs=False):\n",
    "    phizpf = (2*EC/EL)**(1/4)\n",
    "    nzpf = 0.5*(EL/2/EC)**(1/4)\n",
    "    Omega = np.sqrt(8*EL*EC)\n",
    "\n",
    "    a = qt.destroy(Nmax)\n",
    "    adag = a.dag()\n",
    "    phi = phizpf*(a + adag)\n",
    "    N = nzpf*(a-adag)/1j\n",
    "    cosphi = 0.5*((1j*phi).expm()+(-1j*phi).expm())\n",
    "    sinphi = 0.5*((1j*phi).expm()-(-1j*phi).expm())/1j\n",
    "\n",
    "    eig_vals_vec = []\n",
    "    matrix_elements_vec = []\n",
    "\n",
    "    for phiext in phiext_vec:\n",
    "        H = Omega*(adag*a+0.5)-EJ*(np.cos(phiext)*cosphi-np.sin(phiext)*sinphi-1)\n",
    "\n",
    "        matrix_elements = []\n",
    "        if ifeigvecs:\n",
    "            eig_vals, eig_vecs = H.eigenstates()        \n",
    "            for op in [N, phi]:\n",
    "                matrix_elements.append(np.abs(eig_vecs[0].dag()*op*eig_vecs[1])**2)\n",
    "            \n",
    "        else:\n",
    "            eig_vals = H.eigenenergies()\n",
    "            for op in [N, phi]:\n",
    "                matrix_elements.append(0)\n",
    "                \n",
    "        matrix_elements = np.array(matrix_elements)\n",
    "\n",
    "        eig_vals_vec.append(eig_vals)\n",
    "        matrix_elements_vec.append(matrix_elements)\n",
    "\n",
    "    eig_vals_vec = np.array(eig_vals_vec)\n",
    "    matrix_elements_vec = np.array(matrix_elements_vec)\n",
    "    \n",
    "    return eig_vals_vec, matrix_elements_vec\n",
    "\n",
    "\n",
    "def getEJ2(EJ, EC, EL, Nmax=100, phiext_vec=None, ifplot=False):\n",
    "    if phiext_vec is None:\n",
    "        phimin, phimax, dphi = -2*np.pi, 2*np.pi, 0.1\n",
    "        Npts = int((phimax-phimin)/dphi)+1\n",
    "        phiext_vec = np.linspace(phimin, phimax, Npts)\n",
    "    eigvals_vec, _ = spec_fluxonium(Nmax, EJ, EC, EL, phiext_vec, ifeigvecs=False)\n",
    "    Ufluxo = eigvals_vec[:,0]-np.mean(eigvals_vec[:,0])\n",
    "    UfluxoFourrier = np.fft.fft(Ufluxo)\n",
    "    frequency = np.fft.fftfreq(Npts, dphi)\n",
    "    pos_freqs = frequency[0:int(Npts/2)]\n",
    "    pos_spec = UfluxoFourrier[0:int(Npts/2)]\n",
    "    idcs = np.argsort(np.abs(pos_spec))\n",
    "    idcs = idcs[::-1]\n",
    "    max_vals = pos_spec[idcs]\n",
    "    max_freqs = pos_freqs[idcs]\n",
    "    nHarmonics = 5\n",
    "    def Ufluxo_harm(_phiext):\n",
    "        UfluxoFourrierInv = np.zeros(Npts)\n",
    "        for jj in np.arange(nHarmonics):\n",
    "            UfluxoFourrierInv = UfluxoFourrierInv + max_vals[jj]*2*np.cos(2*np.pi*max_freqs[jj]*(_phiext))\n",
    "        UfluxoFourrierInv = UfluxoFourrierInv/Npts\n",
    "        return UfluxoFourrierInv\n",
    "    U0 = Ufluxo_harm(phiext_vec)\n",
    "    Upi = Ufluxo_harm(phiext_vec+np.pi)\n",
    "    Usum = U0 + Upi\n",
    "    EJ2 = (np.max(Usum)-np.min(Usum))/2\n",
    "    #print('EJ2 = %s GHz' % EJ2)\n",
    "    EJ2 = np.real(max_vals[1]*2*2/Npts)\n",
    "    EJ4 = np.real(max_vals[3]*2*2/Npts)\n",
    "    EJ6 = np.real(max_vals[5]*2*2/Npts)\n",
    "    offset = 0.5*(np.sqrt(8*EC*EJ)-EC/2)\n",
    "    EJeff = EJ-0*EL*np.pi**2/4\n",
    "    Gamma = (4/np.sqrt(np.pi))*(8*EJeff**3*EC)**(1/4)*np.exp(-np.sqrt(8*EJeff/EC))\n",
    "    EJ2_th = (1/8)*EL*np.pi**2-Gamma/2\n",
    "    if ifplot:\n",
    "        fig, ax = plt.subplots()\n",
    "        ax.plot(phiext_vec/2/np.pi, Ufluxo, label='0')\n",
    "        ax.set_xlabel(r'$\\Phi_{ext}/2\\pi$')\n",
    "        ax.set_ylabel(r'$U_{fluxo}$')\n",
    "        ax.plot(phiext_vec/2/np.pi, U0, '+', label='0, Fourrier %s ' % nHarmonics)\n",
    "        ax.plot(phiext_vec/2/np.pi, Upi, '+', label=r'$\\pi$, Fourrier %s ' % nHarmonics)\n",
    "        ax.plot(phiext_vec/2/np.pi, Usum, '+', label=r'$0+\\pi$')\n",
    "        ax.plot(phiext_vec/2/np.pi, EJ2*np.cos(2*phiext_vec)+EJ4*np.cos(4*phiext_vec)+EJ6*np.cos(6*phiext_vec), label=r'$E_{J2}cos(2\\phi_{ext})+E_{J4}cos(4\\phi_{ext})+E_{J6}cos(6\\phi_{ext})$')\n",
    "        ax.plot(phiext_vec/2/np.pi, np.min(Usum)+0*EJ2_th*np.ones(Npts))\n",
    "        ax.plot(phiext_vec/2/np.pi, np.min(Usum)+2*EJ2_th*np.ones(Npts), label=r'$E_{J2}$ analytics')\n",
    "        ax.legend()\n",
    "    return EJ2, EJ4, EJ6\n",
    "\n",
    "\n"
   ]
  },
  {
   "cell_type": "code",
   "execution_count": 5,
   "metadata": {},
   "outputs": [
    {
     "data": {
      "image/png": "[encoded data removed]",
      "text/plain": [
       "<Figure size 640x480 with 1 Axes>"
      ]
     },
     "metadata": {},
     "output_type": "display_data"
    }
   ],
   "source": [
    "EJ = params['E_J']\n",
    "EC = params['E_CJ']\n",
    "EL_sweep = np.linspace(.01, 0.15, 10)\n",
    "ECs_sweep = np.zeros_like(EL_sweep)\n",
    "\n",
    "EJ2 = np.zeros_like(EL_sweep)\n",
    "EJ4 = np.zeros_like(EL_sweep) \n",
    "EJ6 = np.zeros_like(EL_sweep)\n",
    "\n",
    "for idx_EL, value_EL in enumerate(EL_sweep):\n",
    "    EJ2[idx_EL], EJ4[idx_EL], EJ6[idx_EL] = getEJ2(EJ, EC, value_EL, Nmax=100, phiext_vec=None, ifplot=False)\n",
    "    _ECs_vec = np.linspace(EJ2[idx_EL]/80, EJ2[idx_EL]/10, 1001)\n",
    "    f01_th_vec = 16*_ECs_vec*np.sqrt(2/np.pi)*(2*EJ2[idx_EL]/_ECs_vec)**(3/4)*np.exp(-np.sqrt(2*EJ2[idx_EL]/_ECs_vec))\n",
    "    kk = np.argmin(np.abs(f01_th_vec-1e-3))\n",
    "    ECs_sweep[idx_EL] = _ECs_vec[kk]\n",
    "    \n",
    "fig = plt.figure()\n",
    "\n",
    "plt.scatter(EL_sweep, EJ2, marker='+', s=40, label='EJ2')\n",
    "plt.scatter(EL_sweep, ECs_sweep*100, marker='o', s=40, label='ECs * 100')\n",
    "plt.xlabel('EL')\n",
    "plt.ylabel('EJ2')\n",
    "plt.legend()\n",
    "plt.show()\n"
   ]
  },
  {
   "cell_type": "code",
   "execution_count": 7,
   "metadata": {},
   "outputs": [
    {
     "data": {
      "text/plain": [
       "(array([0.01      , 0.02555556, 0.04111111, 0.05666667, 0.07222222,\n",
       "        0.08777778, 0.10333333, 0.11888889, 0.13444444, 0.15      ]),\n",
       " array([ 0.11360356,  0.01563222, -0.02885072,  0.02541006,  0.00834073,\n",
       "         0.0150182 ,  0.02351402,  0.03343269,  0.04445888,  0.05633926]))"
      ]
     },
     "execution_count": 7,
     "metadata": {},
     "output_type": "execute_result"
    }
   ],
   "source": [
    "EL_sweep,EJ2"
   ]
  },
  {
   "cell_type": "code",
   "execution_count": 6,
   "metadata": {
    "tags": []
   },
   "outputs": [
    {
     "name": "stdout",
     "output_type": "stream",
     "text": [
      "elapsed time H: 1.66 s\n",
      "elapsed time diag: 29.26 s\n",
      "elapsed time H: 0.39 s\n",
      "elapsed time diag: 28.51 s\n",
      "Progress:  30.0%\r"
     ]
    },
    {
     "ename": "ValueError",
     "evalue": "Charging energy must be positive.",
     "output_type": "error",
     "traceback": [
      "\u001b[0;31m---------------------------------------------------------------------------\u001b[0m",
      "\u001b[0;31mValueError\u001b[0m                                Traceback (most recent call last)",
      "Cell \u001b[0;32mIn[6], line 12\u001b[0m\n\u001b[1;32m      9\u001b[0m params[\u001b[38;5;124m'\u001b[39m\u001b[38;5;124mE_L\u001b[39m\u001b[38;5;124m'\u001b[39m] \u001b[38;5;241m=\u001b[39m value_EL\n\u001b[1;32m     11\u001b[0m params[\u001b[38;5;124m'\u001b[39m\u001b[38;5;124mE_C\u001b[39m\u001b[38;5;124m'\u001b[39m] \u001b[38;5;241m=\u001b[39m ECs_sweep[idx_EL]  \n\u001b[0;32m---> 12\u001b[0m qubit \u001b[38;5;241m=\u001b[39m \u001b[43mKite_Transmon_Taha\u001b[49m\u001b[43m(\u001b[49m\u001b[43mparams\u001b[49m\u001b[43m)\u001b[49m\n\u001b[1;32m     14\u001b[0m levels[idx_EL] \u001b[38;5;241m=\u001b[39m qubit\u001b[38;5;241m.\u001b[39mlevels()\u001b[38;5;241m.\u001b[39mget()\n\u001b[1;32m     15\u001b[0m N_delta[idx_EL] \u001b[38;5;241m=\u001b[39m np\u001b[38;5;241m.\u001b[39mabs(qubit\u001b[38;5;241m.\u001b[39mn_delta_ij(\u001b[38;5;241m0\u001b[39m,\u001b[38;5;241m1\u001b[39m))\n",
      "File \u001b[0;32m~/demo/other/Kite_class.py:259\u001b[0m, in \u001b[0;36mKite_Transmon_Taha.__init__\u001b[0;34m(self, params)\u001b[0m\n\u001b[1;32m    257\u001b[0m \u001b[38;5;28mself\u001b[39m\u001b[38;5;241m.\u001b[39mE_J \u001b[38;5;241m=\u001b[39m params[\u001b[38;5;124m'\u001b[39m\u001b[38;5;124mE_J\u001b[39m\u001b[38;5;124m'\u001b[39m]\n\u001b[1;32m    258\u001b[0m \u001b[38;5;66;03m# Specify the charging energy of the shunting capacitance.\u001b[39;00m\n\u001b[0;32m--> 259\u001b[0m \u001b[38;5;28;43mself\u001b[39;49m\u001b[38;5;241;43m.\u001b[39;49m\u001b[43mE_C\u001b[49m \u001b[38;5;241m=\u001b[39m params[\u001b[38;5;124m'\u001b[39m\u001b[38;5;124mE_C\u001b[39m\u001b[38;5;124m'\u001b[39m]\n\u001b[1;32m    260\u001b[0m \u001b[38;5;66;03m# Specify the phi_ext defined as a fraction of Phi_0.\u001b[39;00m\n\u001b[1;32m    261\u001b[0m \u001b[38;5;28mself\u001b[39m\u001b[38;5;241m.\u001b[39mphi_ext \u001b[38;5;241m=\u001b[39m np\u001b[38;5;241m.\u001b[39marray([params[\u001b[38;5;124m'\u001b[39m\u001b[38;5;124mphi_ext\u001b[39m\u001b[38;5;124m'\u001b[39m]])\u001b[38;5;241m.\u001b[39mflatten()[\u001b[38;5;241m0\u001b[39m]\n",
      "File \u001b[0;32m~/demo/other/Kite_class.py:317\u001b[0m, in \u001b[0;36mKite_Transmon_Taha.E_C\u001b[0;34m(self, value)\u001b[0m\n\u001b[1;32m    314\u001b[0m \u001b[38;5;129m@E_C\u001b[39m\u001b[38;5;241m.\u001b[39msetter\n\u001b[1;32m    315\u001b[0m \u001b[38;5;28;01mdef\u001b[39;00m \u001b[38;5;21mE_C\u001b[39m(\u001b[38;5;28mself\u001b[39m, value):\n\u001b[1;32m    316\u001b[0m     \u001b[38;5;28;01mif\u001b[39;00m value \u001b[38;5;241m<\u001b[39m\u001b[38;5;241m=\u001b[39m \u001b[38;5;241m0\u001b[39m:\n\u001b[0;32m--> 317\u001b[0m         \u001b[38;5;28;01mraise\u001b[39;00m \u001b[38;5;167;01mValueError\u001b[39;00m(\u001b[38;5;124m'\u001b[39m\u001b[38;5;124mCharging energy must be positive.\u001b[39m\u001b[38;5;124m'\u001b[39m)\n\u001b[1;32m    318\u001b[0m     \u001b[38;5;28;01mif\u001b[39;00m value \u001b[38;5;241m!=\u001b[39m \u001b[38;5;28mself\u001b[39m\u001b[38;5;241m.\u001b[39m_E_C:\n\u001b[1;32m    319\u001b[0m         \u001b[38;5;28mself\u001b[39m\u001b[38;5;241m.\u001b[39m_E_C \u001b[38;5;241m=\u001b[39m value\n",
      "\u001b[0;31mValueError\u001b[0m: Charging energy must be positive."
     ]
    }
   ],
   "source": [
    "levels = np.zeros((EL_sweep.size, params['num_osc']))\n",
    "N_delta = np.zeros_like(EL_sweep)\n",
    "Phi_delta = np.zeros_like(EL_sweep)\n",
    "\n",
    "for idx_EL, value_EL in enumerate(EL_sweep):\n",
    "    print('Progress: %5.1f%%'\n",
    "            % (100. * (idx_EL + 1) / (len(EL_sweep))),end='\\r')\n",
    "    \n",
    "    params['E_L'] = value_EL\n",
    "    \n",
    "    params['E_C'] = ECs_sweep[idx_EL]  \n",
    "    qubit = Kite_Transmon_Taha(params)\n",
    "    \n",
    "    levels[idx_EL] = qubit.levels().get()\n",
    "    N_delta[idx_EL] = np.abs(qubit.n_delta_ij(0,1))\n",
    "    Phi_delta[idx_EL] = np.abs(qubit.phi_delta_ij(0,1).get())\n"
   ]
  },
  {
   "cell_type": "code",
   "execution_count": null,
   "metadata": {},
   "outputs": [],
   "source": [
    "fig = plt.figure()\n",
    "omega_01 = levels[:,1] - levels[:,0]\n",
    "\n",
    "plt.scatter(EL_sweep[1:], N_delta[1:]**2, marker='+', s=40, label='$N_{01}$')\n",
    "plt.scatter(EL_sweep[1:], Phi_delta[1:]**2, marker='o', s=40, label='$\\phi_{01}$')\n",
    "plt.plot(EL_sweep[1:],( Phi_delta[1:]*omega_01[1:]/(4*params['E_CJ']))**2, linestyle='-', label='$N_{01}$ identity')\n",
    "plt.xlabel('EL')\n",
    "plt.ylabel('Matrix element')\n",
    "plt.yscale('log')\n",
    "plt.legend()\n",
    "plt.show()"
   ]
  },
  {
   "cell_type": "code",
   "execution_count": null,
   "metadata": {},
   "outputs": [],
   "source": [
    "fig = plt.figure()\n",
    "omega_01 = levels[:,1] - levels[:,0]\n",
    "\n",
    "plt.scatter(EL_sweep, omega_01, marker='+', s=40, label='$\\omega_{01}$ num')\n",
    "plt.plot(EL_sweep, 16*ECs_sweep*np.sqrt(2/np.pi)*(2*EJ2/ECs_sweep)**(3/4)*np.exp(-np.sqrt(2*EJ2/ECs_sweep)), linestyle='-', label='$\\omega_{01}$ th')\n",
    "plt.xlabel('EL')\n",
    "plt.ylabel('Matrix element')\n",
    "# plt.yscale('log')\n",
    "plt.legend()\n",
    "plt.show()"
   ]
  },
  {
   "cell_type": "code",
   "execution_count": null,
   "metadata": {},
   "outputs": [],
   "source": [
    "omega_01 = levels[:,1] - levels[:,0]\n",
    "omega_01"
   ]
  },
  {
   "cell_type": "code",
   "execution_count": null,
   "metadata": {},
   "outputs": [],
   "source": []
  }
 ],
 "metadata": {
  "kernelspec": {
   "display_name": "Conda",
   "language": "python",
   "name": "python3"
  },
  "language_info": {
   "codemirror_mode": {
    "name": "ipython",
    "version": 3
   },
   "file_extension": ".py",
   "mimetype": "text/x-python",
   "name": "python",
   "nbconvert_exporter": "python",
   "pygments_lexer": "ipython3",
   "version": "3.10.8"
  }
 },
 "nbformat": 4,
 "nbformat_minor": 4
}
